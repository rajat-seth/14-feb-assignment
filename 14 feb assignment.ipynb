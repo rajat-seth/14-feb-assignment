{
 "cells": [
  {
   "cell_type": "markdown",
   "id": "931aac5e-0541-4439-83c8-16f8dfb1bf46",
   "metadata": {},
   "source": [
    "Q1)"
   ]
  },
  {
   "cell_type": "markdown",
   "id": "38ad7242-127a-40ca-a704-fff1aabccba7",
   "metadata": {},
   "source": [
    "Multithreading refers to concurrently executing multiple threads by repidly switching the control of the CPU between threads. it is used to increase the efficiency of the resources or the CPU performance.\n",
    "After importing the thread mudule methods like start() are used."
   ]
  },
  {
   "cell_type": "markdown",
   "id": "f9665bc2-843b-4cd0-a4c5-9fb67aedbcc0",
   "metadata": {},
   "source": [
    "Q2)"
   ]
  },
  {
   "cell_type": "markdown",
   "id": "3963ab6e-5e91-48e4-aad9-bd20b750aab4",
   "metadata": {},
   "source": [
    "Threading module is used to increase efficiency of resources and increase CPU performance."
   ]
  },
  {
   "cell_type": "markdown",
   "id": "9a388c73-3efc-42d6-8b57-4a1f41cb2fc8",
   "metadata": {},
   "source": [
    "activeCount()-The activeCount() method is used to return the number of active threads in the current thread's thread group."
   ]
  },
  {
   "cell_type": "markdown",
   "id": "6c7cf34e-44a8-4992-9ee5-10b91ad4b823",
   "metadata": {},
   "source": [
    "currentThread()-The currentThread() method is used to return a reference to the currently executing thread object."
   ]
  },
  {
   "cell_type": "markdown",
   "id": "e90f3b24-a8d5-4ca5-836a-d394f857eafd",
   "metadata": {},
   "source": [
    "enumerate()-It is used to keep track of the number of iterations(loops) in a loop."
   ]
  },
  {
   "cell_type": "markdown",
   "id": "cf4a8fe6-878a-447c-8fb5-f143fdd91fc8",
   "metadata": {},
   "source": [
    "Q3)"
   ]
  },
  {
   "cell_type": "markdown",
   "id": "8fe6627e-4e14-4245-874b-263ef7c57176",
   "metadata": {},
   "source": [
    "run() method executes any target function belonging to a given thread object that is now active.\n",
    "\n",
    "start() method is used to start a thread activity.\n",
    "\n",
    "join() takes all the elements of an iterable and join them into a single string.\n",
    "\n",
    "isAlive() is used to check wheather thread is still running and if it is then it return true."
   ]
  },
  {
   "cell_type": "markdown",
   "id": "6d9f42cb-c2b6-4e58-ab51-e883fc62aaab",
   "metadata": {},
   "source": [
    "Q5)"
   ]
  },
  {
   "cell_type": "markdown",
   "id": "9316a42b-e945-4307-abc9-db9711ec1648",
   "metadata": {},
   "source": [
    "Adavntages:Improves performance,Reduces the space used,Smplified coding,MUltiple applications can be accessed simultaneously.\n",
    "Disadvantages:Difficulty in wrting a specified code,Difficulty of porting exixsting code,difficulty in testing and debugging."
   ]
  },
  {
   "cell_type": "markdown",
   "id": "7de73e68-5002-4327-a6df-bfea1d5f3e7d",
   "metadata": {},
   "source": [
    "Q6)"
   ]
  },
  {
   "cell_type": "markdown",
   "id": "c6955cd3-9286-4b73-bfbc-aee38b253e13",
   "metadata": {},
   "source": [
    "Deadlock is used to give a lock to one thred so that if one execute than only other can execute.\n",
    "Race is condition when two threads alter the state of a shared resource concurrently leaving it in an upredictable state."
   ]
  },
  {
   "cell_type": "code",
   "execution_count": null,
   "id": "fca3fa90-6f5b-431a-bf28-a1c04aa2657d",
   "metadata": {},
   "outputs": [],
   "source": []
  }
 ],
 "metadata": {
  "kernelspec": {
   "display_name": "Python 3 (ipykernel)",
   "language": "python",
   "name": "python3"
  },
  "language_info": {
   "codemirror_mode": {
    "name": "ipython",
    "version": 3
   },
   "file_extension": ".py",
   "mimetype": "text/x-python",
   "name": "python",
   "nbconvert_exporter": "python",
   "pygments_lexer": "ipython3",
   "version": "3.10.8"
  }
 },
 "nbformat": 4,
 "nbformat_minor": 5
}
